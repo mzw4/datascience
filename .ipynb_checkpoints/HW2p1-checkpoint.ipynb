{
 "cells": [
  {
   "cell_type": "code",
   "execution_count": 3,
   "metadata": {
    "collapsed": false
   },
   "outputs": [],
   "source": [
    "%matplotlib inline\n",
    "\n",
    "import sys, operator, findspark\n",
    "findspark.init()\n",
    "\n",
    "import numpy as np\n",
    "\n",
    "import pyspark\n",
    "from pyspark.sql import SQLContext\n",
    "from pyspark.mllib.recommendation import ALS, MatrixFactorizationModel, Rating\n",
    "\n",
    "\n",
    "sc= pyspark.SparkContext()\n",
    "sqlContext = SQLContext(sc)"
   ]
  },
  {
   "cell_type": "code",
   "execution_count": 40,
   "metadata": {
    "collapsed": false
   },
   "outputs": [],
   "source": [
    "rdd = sc.textFile('ml-10M100K/ratings.dat')\n",
    "rdd = rdd.map(lambda l: l.split(\"::\")).sample(False, 0.1).sortBy(lambda x: x[3])"
   ]
  },
  {
   "cell_type": "code",
   "execution_count": null,
   "metadata": {
    "collapsed": true
   },
   "outputs": [],
   "source": [
    "#find timestamp at 60% and 80% to split rdd\n",
    "size=rdd.count()\n",
    "divider_60 = rdd.map(lambda x: x[3]).take(int(0.6*size))[-1]\n",
    "divider_80 = rdd.map(lambda x: x[3]).take(int(0.8*size))[-1]\n",
    "train_rdd=rdd.filter(lambda x: x[3]<divider_60)\n",
    "validation_rdd=rdd.filter(lambda x: x[3]>=divider_60 and x[3]<divider_80)\n",
    "test_rdd=rdd.filter(lambda x: x[3]>=divider_80)"
   ]
  },
  {
   "cell_type": "code",
   "execution_count": null,
   "metadata": {
    "collapsed": false
   },
   "outputs": [],
   "source": [
    "#drop timestamp\n",
    "ratings = train_rdd.map(lambda l: Rating(int(l[0]), int(l[1]), float(l[2])))\n",
    "\n",
    "#train vanilla model\n",
    "vanilla_model = ALS.train(ratings,rank=4,seed= None, iterations=10,lambda_ = 0.1)"
   ]
  },
  {
   "cell_type": "code",
   "execution_count": null,
   "metadata": {
    "collapsed": false
   },
   "outputs": [],
   "source": [
    "#prepare data for predictions\n",
    "validation_rdd=validation_rdd.map(lambda l: Rating(int(l[0]), int(l[1]), float(l[2])))\n",
    "validation_for_predict_RDD = validation_rdd.map(lambda x: (x[0], x[1]))\n",
    "test_rdd=test_rdd.map(lambda l: Rating(int(l[0]), int(l[1]), float(l[2])))\n",
    "test_for_predict_RDD = test_rdd.map(lambda x: (x[0], x[1]))\n",
    "\n",
    "\n",
    "#find predictions\n",
    "predictions_val = vanilla_model.predictAll(validation_for_predict_RDD).map(lambda r: ((r[0], r[1]), r[2]))\n",
    "predictions_test = vanilla_model.predictAll(test_for_predict_RDD).map(lambda r: ((r[0], r[1]), r[2]))\n",
    "\n",
    "#compute RMSE\n",
    "ratesAndPreds_val = validation_rdd.map(lambda r: ((r[0], r[1]), r[2])).join(predictions_val)\n",
    "MSE_Val = ratesAndPreds_val.map(lambda r: (r[1][0] - r[1][1])**2).mean()\n",
    "print(\"Mean Squared Error for ValidationRDD= \" + str(MSE_Val))\n",
    "\n",
    "ratesAndPreds_test = test_rdd.map(lambda r: ((r[0], r[1]), r[2])).join(predictions_test)\n",
    "MSE_Test = ratesAndPreds_test.map(lambda r: (r[1][0] - r[1][1])**2).mean()\n",
    "print(\"Mean Squared Error for TestRDD= \" + str(MSE_Test))"
   ]
  },
  {
   "cell_type": "code",
   "execution_count": null,
   "metadata": {
    "collapsed": true
   },
   "outputs": [],
   "source": []
  }
 ],
 "metadata": {
  "kernelspec": {
   "display_name": "pySpark (Spark 1.6.1)",
   "language": "python",
   "name": "pyspark"
  },
  "language_info": {
   "codemirror_mode": {
    "name": "ipython",
    "version": 2
   },
   "file_extension": ".py",
   "mimetype": "text/x-python",
   "name": "python",
   "nbconvert_exporter": "python",
   "pygments_lexer": "ipython2",
   "version": "2.7.10"
  }
 },
 "nbformat": 4,
 "nbformat_minor": 0
}
