{
 "cells": [
  {
   "cell_type": "code",
   "execution_count": 1,
   "metadata": {
    "collapsed": false
   },
   "outputs": [],
   "source": [
    "%matplotlib inline\n",
    "\n",
    "import sys, operator, findspark\n",
    "findspark.init()\n",
    "\n",
    "import numpy as np\n",
    "\n",
    "import pyspark\n",
    "from pyspark.sql import SQLContext\n",
    "from pyspark.mllib.recommendation import ALS, MatrixFactorizationModel, Rating\n",
    "\n",
    "\n",
    "sc= pyspark.SparkContext()\n",
    "sqlContext = SQLContext(sc)"
   ]
  },
  {
   "cell_type": "code",
   "execution_count": 2,
   "metadata": {
    "collapsed": false
   },
   "outputs": [],
   "source": [
    "rdd = sc.textFile('ml-10M100K/ratings.dat')\n",
    "rdd = rdd.map(lambda l: l.split(\"::\")).sample(False, 0.1).sortBy(lambda x: x[3])"
   ]
  },
  {
   "cell_type": "code",
   "execution_count": 3,
   "metadata": {
    "collapsed": true
   },
   "outputs": [],
   "source": [
    "#find timestamp at 60% and 80% to split rdd\n",
    "size=rdd.count()\n",
    "divider_60 = rdd.map(lambda x: x[3]).take(int(0.6*size))[-1]\n",
    "divider_80 = rdd.map(lambda x: x[3]).take(int(0.8*size))[-1]\n",
    "train_rdd=rdd.filter(lambda x: x[3]<divider_60)\n",
    "validation_rdd=rdd.filter(lambda x: x[3]>=divider_60 and x[3]<divider_80)\n",
    "test_rdd=rdd.filter(lambda x: x[3]>=divider_80)"
   ]
  },
  {
   "cell_type": "code",
   "execution_count": 4,
   "metadata": {
    "collapsed": false
   },
   "outputs": [],
   "source": [
    "#drop timestamp\n",
    "ratings = train_rdd.map(lambda l: Rating(int(l[0]), int(l[1]), float(l[2])))\n",
    "validation_rdd=validation_rdd.map(lambda l: Rating(int(l[0]), int(l[1]), float(l[2])))\n",
    "test_rdd=test_rdd.map(lambda l: Rating(int(l[0]), int(l[1]), float(l[2])))\n",
    "\n",
    "def train_model(train_rdd):\n",
    "    model = ALS.train(train_rdd,rank=8,seed= None, iterations=10,lambda_ = 0.1)\n",
    "    return model"
   ]
  },
  {
   "cell_type": "code",
   "execution_count": 5,
   "metadata": {
    "collapsed": false
   },
   "outputs": [
    {
     "name": "stdout",
     "output_type": "stream",
     "text": [
      "Validation Data\n",
      "Mean Squared Error 1.11875060059\n",
      "Test Data\n",
      "Mean Squared Error 1.1339822189\n"
     ]
    }
   ],
   "source": [
    "#train model\n",
    "vanilla_model=train_model(ratings)\n",
    "\n",
    "def find_predictions_and_MSE(rdd):\n",
    "    #prepare data for predictions\n",
    "    rdd_for_predict = rdd.map(lambda x: (x[0], x[1]))\n",
    "    \n",
    "    #find predictions\n",
    "    predictions = vanilla_model.predictAll(rdd_for_predict).map(lambda r: ((r[0], r[1]), r[2]))\n",
    "\n",
    "    #compute RMSE\n",
    "    ratesAndPreds = rdd.map(lambda r: ((r[0], r[1]), r[2])).join(predictions)\n",
    "    MSE = ratesAndPreds.map(lambda r: (r[1][0] - r[1][1])**2).mean()\n",
    "    print(\"Mean Squared Error \" + str(MSE))\n",
    "\n",
    "print \"Validation Data\"\n",
    "find_predictions_and_MSE(validation_rdd)\n",
    "\n",
    "print \"Test Data\"\n",
    "find_predictions_and_MSE(test_rdd)"
   ]
  },
  {
   "cell_type": "markdown",
   "metadata": {},
   "source": [
    "<h1>Recommendation System </h1>"
   ]
  },
  {
   "cell_type": "code",
   "execution_count": 6,
   "metadata": {
    "collapsed": false
   },
   "outputs": [],
   "source": [
    "#RECOMMEND MOVIES\n",
    "movies_rdd= sc.textFile('ml-latest/movies.csv')\n",
    "\n",
    "#parse data\n",
    "header = movies_rdd.take(1)[0]\n",
    "\n",
    "# Parse\n",
    "movies_rdd = movies_rdd.filter(lambda line: line!=header)\\\n",
    "    .map(lambda line: line.split(\",\")).map(lambda tokens: (int(tokens[0]),tokens[1],tokens[2]))\n",
    "\n",
    "movie_titles = movies_rdd.map(lambda x: (int(x[0]),x[1]))"
   ]
  },
  {
   "cell_type": "code",
   "execution_count": 7,
   "metadata": {
    "collapsed": false
   },
   "outputs": [],
   "source": [
    "def get_counts_and_averages(ID_and_ratings_tuple):\n",
    "    nratings = len(ID_and_ratings_tuple[1])\n",
    "    return ID_and_ratings_tuple[0], (nratings, float(sum(x for x in ID_and_ratings_tuple[1]))/nratings)\n",
    "\n",
    "movieID_ratings_RDD = (rdd.map(lambda x: (int(x[1]), float(x[2]))).groupByKey())\n",
    "movieID_ratings_RDD = movieID_ratings_RDD.map(get_counts_and_averages)\n",
    "movie_rating_counts_RDD = movieID_ratings_RDD.map(lambda x: (x[0], x[1][0]))"
   ]
  },
  {
   "cell_type": "code",
   "execution_count": 8,
   "metadata": {
    "collapsed": false
   },
   "outputs": [
    {
     "name": "stdout",
     "output_type": "stream",
     "text": [
      "New user ratings: [(0, 260, 4), (0, 1, 3), (0, 16, 3), (0, 25, 4), (0, 32, 4), (0, 335, 1), (0, 379, 1), (0, 296, 3), (0, 858, 5), (0, 50, 4)]\n"
     ]
    }
   ],
   "source": [
    "#new user ratings\n",
    "\n",
    "new_user_ratings = [\n",
    "     (0,260,4), # Star Wars (1977)\n",
    "     (0,1,3), # Toy Story (1995)\n",
    "     (0,16,3), # Casino (1995)\n",
    "     (0,25,4), # Leaving Las Vegas (1995)\n",
    "     (0,32,4), # Twelve Monkeys (a.k.a. 12 Monkeys) (1995)\n",
    "     (0,335,1), # Flintstones, The (1994)\n",
    "     (0,379,1), # Timecop (1994)\n",
    "     (0,296,3), # Pulp Fiction (1994)\n",
    "     (0,858,5) , # Godfather, The (1972)\n",
    "     (0,50,4) # Usual Suspects, The (1995)\n",
    "    ]\n",
    "new_user_ratings_RDD = sc.parallelize(new_user_ratings)\n",
    "print 'New user ratings: %s' % new_user_ratings_RDD.take(10)"
   ]
  },
  {
   "cell_type": "code",
   "execution_count": 9,
   "metadata": {
    "collapsed": false
   },
   "outputs": [],
   "source": [
    "#add new ratings to original ratings\n",
    "ratings = rdd.union(new_user_ratings_RDD)"
   ]
  },
  {
   "cell_type": "code",
   "execution_count": 10,
   "metadata": {
    "collapsed": false
   },
   "outputs": [],
   "source": [
    "#train model again\n",
    "new_ratings_model= train_model(ratings.map(lambda l: Rating(int(l[0]), int(l[1]), float(l[2]))))"
   ]
  },
  {
   "cell_type": "code",
   "execution_count": 11,
   "metadata": {
    "collapsed": false
   },
   "outputs": [
    {
     "name": "stdout",
     "output_type": "stream",
     "text": [
      "[Rating(user=0, product=384, rating=2.3813291603584616), Rating(user=0, product=4926, rating=2.0686434218891296), Rating(user=0, product=5928, rating=2.7610496247491167)]\n"
     ]
    }
   ],
   "source": [
    "#get movies rated by new user\n",
    "new_user_ratings = map(lambda x: x[1], new_user_ratings)\n",
    "\n",
    "#get list of unwatched movies\n",
    "unrated_movies = (movies_rdd.filter(lambda x: x[0] not in new_user_ratings).map(lambda x: (0, x[0])))\n",
    "\n",
    "#get recommendations\n",
    "recommendations = new_ratings_model.predictAll(unrated_movies)\n",
    "print recommendations.take(3)"
   ]
  },
  {
   "cell_type": "code",
   "execution_count": 12,
   "metadata": {
    "collapsed": false
   },
   "outputs": [
    {
     "name": "stdout",
     "output_type": "stream",
     "text": [
      "[(2048, 79), (3072, 407), (5592, 1)]\n"
     ]
    }
   ],
   "source": [
    "# Transform recommendations into(Movie ID, Predicted Rating)\n",
    "recommendations = recommendations.map(lambda x: (x.product, x.rating))\n",
    "recommendations = \\\n",
    "    recommendations.join(movie_titles).join(movie_rating_counts_RDD)\n",
    "    \n",
    "#flatten it\n",
    "recommendations = recommendations.map(lambda r: (r[1][0][1], r[1][0][0], r[1][1]))\n",
    "\n",
    "print movie_rating_counts_RDD.take(3)"
   ]
  },
  {
   "cell_type": "code",
   "execution_count": 14,
   "metadata": {
    "collapsed": false
   },
   "outputs": [
    {
     "name": "stdout",
     "output_type": "stream",
     "text": [
      "TOP recommended movies (with more than 25 reviews):\n",
      "(u'Sunshine (1999)', 4.367679651888162, 35)\n",
      "(u'\"Diving Bell and the Butterfly', 4.365090943548678, 38)\n",
      "(u'Withnail & I (1987)', 4.325709966404039, 68)\n",
      "(u'\"Endless Summer 2', 4.323567863620477, 34)\n",
      "(u'American Beauty (1999)', 4.2902778766523895, 2208)\n",
      "(u'Eternal Sunshine of the Spotless Mind (2004)', 4.289448373623751, 859)\n",
      "(u'\"Big Red One', 4.280803290197588, 32)\n",
      "(u'Primer (2004)', 4.273502752545498, 74)\n",
      "(u'City of God (Cidade de Deus) (2002)', 4.213031537475345, 414)\n",
      "(u'Nadja (1994)', 4.195803692973873, 27)\n",
      "(u'Koyaanisqatsi (a.k.a. Koyaanisqatsi: Life Out of Balance) (1983)', 4.178680423650899, 130)\n",
      "(u'Amazon Women on the Moon (1987)', 4.1746981760829005, 37)\n",
      "(u'\"Royal Tenenbaums', 4.167678196877453, 586)\n",
      "(u'\"Samoura\\xef', 4.148188858584449, 31)\n",
      "(u'8 Women (2002)', 4.135325591343863, 42)\n",
      "(u'Lupin III: The Castle Of Cagliostro (Rupan sansei: Kariosutoro no shiro) (1979)', 4.13521404381985, 38)\n",
      "(u'Fight Club (1999)', 4.087300470541667, 1624)\n",
      "(u'Sin City (2005)', 4.072666950377288, 597)\n",
      "(u'Ninja Scroll (J\\xfbbei ninp\\xfbch\\xf4) (1995)', 4.055574731563916, 90)\n",
      "(u'SLC Punk! (1998)', 4.034067626494785, 69)\n",
      "(u'Punch-Drunk Love (2002)', 4.015447779537758, 282)\n",
      "(u'No Direction Home: Bob Dylan (2005)', 4.013401268560931, 30)\n",
      "(u'Knocked Up (2007)', 4.012862442681193, 154)\n",
      "(u'Who Killed the Electric Car? (2006)', 4.002043216726108, 35)\n",
      "(u'Run Lola Run (Lola rennt) (1998)', 3.986551240010634, 952)\n"
     ]
    }
   ],
   "source": [
    "#get top 25 ratings\n",
    "top_movies = recommendations.filter(lambda r: r[2]>=25).takeOrdered(25, key=lambda x: -x[1])\n",
    "\n",
    "print ('TOP recommended movies (with more than 25 reviews):\\n%s' %\n",
    "        '\\n'.join(map(str, top_movies)))\n"
   ]
  },
  {
   "cell_type": "code",
   "execution_count": null,
   "metadata": {
    "collapsed": true
   },
   "outputs": [],
   "source": []
  }
 ],
 "metadata": {
  "kernelspec": {
   "display_name": "pySpark (Spark 1.6.1)",
   "language": "python",
   "name": "pyspark"
  },
  "language_info": {
   "codemirror_mode": {
    "name": "ipython",
    "version": 2
   },
   "file_extension": ".py",
   "mimetype": "text/x-python",
   "name": "python",
   "nbconvert_exporter": "python",
   "pygments_lexer": "ipython2",
   "version": "2.7.10"
  }
 },
 "nbformat": 4,
 "nbformat_minor": 0
}
