{
 "cells": [
  {
   "cell_type": "code",
   "execution_count": 3,
   "metadata": {
    "collapsed": false
   },
   "outputs": [],
   "source": [
    "import sys, operator, time, os\n",
    "from collections import defaultdict\n",
    "import numpy as np\n",
    "\n",
    "from pyspark import SparkContext\n",
    "from pyspark.mllib.recommendation import ALS, MatrixFactorizationModel, Rating\n",
    "\n",
    "# sc = SparkContext(appName=\"PythonPi\")\n",
    "\n",
    "# %matplotlib inline\n",
    "# print os.environ[\"PYSPARK_SUBMIT_ARGS\"]\n",
    "# print sc._conf.get('spark.driver.memory')\n",
    "# print sc._conf.get('spark.executor.memory')\n",
    "# print sc._conf.getAll()\n",
    "\n",
    "base_dir = 'ml-10M100K/'\n",
    "ratings_dir = base_dir + 'ratings.dat'\n",
    "movies_dir = base_dir + 'movies.dat'\n",
    "tags_dir = base_dir + 'tags.dat'\n",
    "\n",
    "test = True"
   ]
  },
  {
   "cell_type": "code",
   "execution_count": 4,
   "metadata": {
    "collapsed": false
   },
   "outputs": [],
   "source": [
    "# load data as rdd\n",
    "ratings_rdd = sc.textFile(ratings_dir)\\\n",
    "    .map(lambda r: [float(e) if i == 2 else e for i, e in enumerate(r.split('::'))])\n",
    "movies_rdd = sc.textFile(movies_dir).map(lambda r: r.split('::'))\n",
    "tags_rdd = sc.textFile(tags_dir).map(lambda r: r.split('::'))"
   ]
  },
  {
   "cell_type": "code",
   "execution_count": 5,
   "metadata": {
    "collapsed": false
   },
   "outputs": [],
   "source": [
    "# for testing\n",
    "if test:\n",
    "    ratings_rdd = ratings_rdd.sample(False, 0.01, int(time.time()))"
   ]
  },
  {
   "cell_type": "code",
   "execution_count": 6,
   "metadata": {
    "collapsed": false
   },
   "outputs": [
    {
     "name": "stdout",
     "output_type": "stream",
     "text": [
      "Users: 71565\n"
     ]
    }
   ],
   "source": [
    "def get_user_count(data):\n",
    "    return data.map(lambda r: int(r[0])).distinct().max()\n",
    "\n",
    "user_count = get_user_count(ratings_rdd)\n",
    "\n",
    "print 'Users: %d' % user_count"
   ]
  },
  {
   "cell_type": "code",
   "execution_count": 7,
   "metadata": {
    "collapsed": false
   },
   "outputs": [],
   "source": [
    "from sklearn.feature_extraction import DictVectorizer\n",
    "from scipy.sparse import csr_matrix\n",
    "from scipy.spatial import distance\n",
    "\n",
    "vectorizer = DictVectorizer(sparse=True)\n",
    "\n",
    "def vectorize(vals, user_count):\n",
    "    vec = np.zeros((user_count+1, 1))\n",
    "    for (u, r) in vals:\n",
    "        vec[int(u)] = float(r)\n",
    "    return vec\n",
    "    \n",
    "# def get_k_similar(vector, data, k):\n",
    "#     distances = data.map(lambda r: (r[0], distance.euclidean(vectorize(r[1], user_count), vectorize(vector, user_count))))\\\n",
    "#         .sortBy(lambda d: d[1])\n",
    "#     return distances.map(lambda m: m[0]).take(k)[1:]\n",
    "      \n",
    "# # get nearest k movie neighbors\n",
    "# # use euclidean distance\n",
    "# def get_nn_movies(ratings_data, k):\n",
    "#     movie_sparse_vectors = ratings_data.groupBy(lambda r: r[1]).mapValues(lambda r: np.array(list(r))[:, (0,2)])\n",
    "#     nn = {}\n",
    "#     for movie, movie_vec in movie_sparse_vectors.collect():\n",
    "#         print movie\n",
    "#         nn[movie] = get_k_similar(movie_vec, movie_sparse_vectors, k)\n",
    "#     return nn\n",
    "\n",
    "def get_k_similar2(movie, vector, movie_sparse_vectors, k):\n",
    "#     print movie, movie_sparse_vectors\n",
    "    dists = []\n",
    "    for m, vec in movie_sparse_vectors.iteritems():\n",
    "        if movie == m: continue\n",
    "        dists += [(m, distance.euclidean(vectorize(vec, user_count), vectorize(vector, user_count)))]\n",
    "\n",
    "    similar_movies = sorted(dists, key=lambda x: x[1])[:k]\n",
    "    return similar_movies\n",
    "\n",
    "def get_user_movies(data):\n",
    "    user_movies = data.groupBy(lambda r: r[0]).mapValues(lambda r: np.array(list(r))[:, (1,2)])\n",
    "    \n",
    "    return dict(user_movies.collect())\n",
    "\n",
    "def get_movie_features(data):\n",
    "    movie_sparse_vectors = data.groupBy(lambda r: r[1]).mapValues(lambda r: np.array(list(r))[:, (0,2)])\n",
    "    return dict(movie_sparse_vectors.collect())\n",
    "    \n",
    "def get_similar_rated_by_user(user, movie, user_movies, movie_sparse_vectors):\n",
    "    user_rated_movies = user_movies[user][:, 0]\n",
    "    user_ratings = dict(user_movies[user])\n",
    "    \n",
    "    movie_vecs = dict([(m, movie_sparse_vectors[m]) for m in user_rated_movies])\n",
    "    \n",
    "    cur_vec = movie_sparse_vectors[movie]\n",
    "    similar = get_k_similar2(movie, cur_vec, movie_vecs, 10)\n",
    "    return [(m, sim, float(user_ratings[m])) for m, sim in similar]\n",
    "\n",
    "#     nearest_neighbors = movie_sparse_vectors.map(lambda r: get_k_similar(r[1], movie_sparse_vectors, k))\n",
    "#     return dict(nearest_neighbors.collect())\n"
   ]
  },
  {
   "cell_type": "code",
   "execution_count": 9,
   "metadata": {
    "collapsed": false
   },
   "outputs": [],
   "source": [
    "# from sklearn.feature_extraction import DictVectorizer\n",
    "# from scipy.sparse import csr_matrix\n",
    "\n",
    "# vectorizer = DictVectorizer(sparse=True)\n",
    "\n",
    "# data = test_rdd.groupBy(lambda r: r[1]).mapValues(lambda r: np.array(list(r))[:, (0,2)])\n",
    "# # print test_rdd.groupBy(lambda r: r[1]).mapValues(lambda r: np.array(list(r))[:, (0,2)]).collect()\n",
    "# d = test_rdd.groupBy(lambda r: r[1]).mapValues(lambda r: np.array(list(r))[:, (0,2)]).collect()[0][1]\n",
    "# d2 = test_rdd.groupBy(lambda r: r[1]).mapValues(lambda r: np.array(list(r))[:, (0,2)]).collect()[1][1]\n",
    "\n",
    "# sm = vectorize(d, user_count)\n",
    "# sm2 = vectorize(d2, user_count)\n",
    "# # print sm.shape, sm2.shape\n",
    "# print distance.cosine(sm, sm2)\n",
    "# print d\n",
    "# get_k_similar(d, data, 10)"
   ]
  },
  {
   "cell_type": "code",
   "execution_count": 10,
   "metadata": {
    "collapsed": false
   },
   "outputs": [],
   "source": [
    "# get mean for a grouped key result\n",
    "def get_mean(r):\n",
    "    return np.array(list(r))[:, 2].astype(float).mean()\n",
    "\n",
    "# remove bias for one sample\n",
    "def remove_sample_bias(r, user_means, movie_means, global_mean, user_movies, movie_sparse_vectors):\n",
    "    user_mean = user_means[r[0]]\n",
    "    baseline_offset = (global_mean - user_mean) + (global_mean - movie_means[r[1]])\n",
    "    \n",
    "    nn_offset = 0\n",
    "    sim_sum = 0\n",
    "    for movie, rating, sim in get_similar_rated_by_user(r[0], r[1], user_movies, movie_sparse_vectors):\n",
    "        sim_sum += sim\n",
    "        baseline_sim = global_mean + (user_mean - global_mean) + (movie_means[movie] - global_mean)\n",
    "        nn_offset -= sim * (rating - baseline_sim)\n",
    "    nn_offset /= sim_sum if sim_sum != 0 else 1\n",
    "        \n",
    "    r[2] = round(min(max(r[2] + baseline_offset + nn_offset, 0), 5), 2) # bound and round rating\n",
    "    return r\n",
    "\n",
    "def remove_bias(data):\n",
    "    print 'Getting user movies and movie features'\n",
    "    user_movies = get_user_movies(ratings_rdd)\n",
    "    movie_sparse_vectors = get_movie_features(ratings_rdd)\n",
    "    \n",
    "    print 'Getting means'\n",
    "    # global mean\n",
    "    global_mean = data.map(lambda r: r[2]).mean()\n",
    "    print global_mean\n",
    "    \n",
    "    # user means\n",
    "    user_means = data.groupBy(lambda r: r[0]).mapValues(lambda r: get_mean(r)).collect()\n",
    "    user_means = dict(user_means)\n",
    "    # print user_means\n",
    "\n",
    "    # user means\n",
    "    movie_means = data.groupBy(lambda r: r[1]).mapValues(lambda r: get_mean(r)).collect()\n",
    "    movie_means = dict(movie_means)\n",
    "    # print movie_means\n",
    "    \n",
    "    print 'Removing bias'\n",
    "    print data.take(1)[0]\n",
    "#     print remove_sample_bias(data.take(1)[0], user_means, movie_means, global_mean, user_movies)\n",
    "    \n",
    "    return data.map(lambda r: remove_sample_bias(r, user_means, movie_means, global_mean, user_movies, movie_sparse_vectors))"
   ]
  },
  {
   "cell_type": "code",
   "execution_count": 11,
   "metadata": {
    "collapsed": false
   },
   "outputs": [
    {
     "name": "stdout",
     "output_type": "stream",
     "text": [
      "Getting user movies\n",
      "Getting means\n",
      "3.52075130575\n",
      "Removing bias\n",
      "[u'5', u'1046', 5.0, u'857912102']\n"
     ]
    }
   ],
   "source": [
    "ratings_rdd_unbiased = remove_bias(ratings_rdd)"
   ]
  },
  {
   "cell_type": "code",
   "execution_count": 12,
   "metadata": {
    "collapsed": true
   },
   "outputs": [],
   "source": [
    "def train_als(data):\n",
    "    # map ratings into Ratings object comprised of [user, movie, rating]\n",
    "    data = data.map(lambda l: Rating(int(l[0]), int(l[1]), float(l[2])))\n",
    "\n",
    "    rank = 10\n",
    "    numIterations = 10\n",
    "    model = ALS.train(data, rank, numIterations)\n",
    "    return model, data"
   ]
  },
  {
   "cell_type": "code",
   "execution_count": 13,
   "metadata": {
    "collapsed": false
   },
   "outputs": [],
   "source": [
    "def evaluate(data, model):\n",
    "    # Evaluate the model on training data\n",
    "    testdata = data.map(lambda p: (p[0], p[1]))\n",
    "\n",
    "    predictions = model.predictAll(testdata).map(lambda r: ((r[0], r[1]), r[2]))\n",
    "    ratesAndPreds = data.map(lambda r: ((r[0], r[1]), r[2])).join(predictions)\n",
    "    MSE = ratesAndPreds.map(lambda r: (r[1][0] - r[1][1])**2).mean()\n",
    "    print(\"Mean Squared Error = \" + str(MSE))"
   ]
  },
  {
   "cell_type": "code",
   "execution_count": null,
   "metadata": {
    "collapsed": false
   },
   "outputs": [
    {
     "name": "stdout",
     "output_type": "stream",
     "text": [
      "Training als\n",
      "Evaluating"
     ]
    }
   ],
   "source": [
    "print 'Training als'\n",
    "model, data = train_als(ratings_rdd_unbiased)\n",
    "print 'Evaluating'\n",
    "evaluate(data, model)"
   ]
  },
  {
   "cell_type": "code",
   "execution_count": null,
   "metadata": {
    "collapsed": true
   },
   "outputs": [],
   "source": [
    "print 'Training als'\n",
    "model, data = train_als(ratings_rdd)\n",
    "print 'Evaluating'\n",
    "evaluate(data, model)"
   ]
  }
 ],
 "metadata": {
  "kernelspec": {
   "display_name": "pySpark (Spark 1.6.1)",
   "language": "python",
   "name": "pyspark"
  },
  "language_info": {
   "codemirror_mode": {
    "name": "ipython",
    "version": 2
   },
   "file_extension": ".py",
   "mimetype": "text/x-python",
   "name": "python",
   "nbconvert_exporter": "python",
   "pygments_lexer": "ipython2",
   "version": "2.7.10"
  }
 },
 "nbformat": 4,
 "nbformat_minor": 0
}
