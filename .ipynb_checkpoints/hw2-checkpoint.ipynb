{
 "cells": [
  {
   "cell_type": "code",
   "execution_count": 6,
   "metadata": {
    "collapsed": false
   },
   "outputs": [
    {
     "name": "stdout",
     "output_type": "stream",
     "text": [
      "--master local[*] --driver-memory 5g --executor-memory 5g  pyspark-shell\n",
      "5g\n",
      "None\n",
      "[(u'spark.rdd.compress', u'True'), (u'spark.serializer.objectStreamReset', u'100'), (u'spark.master', u'local[*]'), (u'spark.submit.deployMode', u'client'), (u'spark.driver.memory', u'5g'), (u'spark.app.name', u'pyspark-shell')]\n"
     ]
    }
   ],
   "source": [
    "import sys, operator, time, os\n",
    "from collections import defaultdict\n",
    "import numpy as np\n",
    "\n",
    "from pyspark.mllib.recommendation import ALS, MatrixFactorizationModel, Rating\n",
    "\n",
    "%matplotlib inline\n",
    "print os.environ[\"PYSPARK_SUBMIT_ARGS\"]\n",
    "print sc._conf.get('spark.driver.memory')\n",
    "print sc._conf.get('spark.executor.memory')\n",
    "print sc._conf.getAll()\n",
    "\n",
    "# sc.set('spark.driver.memory', '5g')\n",
    "sqlContext = SQLContext(sc)\n",
    "\n",
    "base_dir = 'ml-10M100K/'\n",
    "ratings_dir = base_dir + 'ratings.dat'\n",
    "movies_dir = base_dir + 'movies.dat'\n",
    "tags_dir = base_dir + 'tags.dat'\n"
   ]
  },
  {
   "cell_type": "code",
   "execution_count": 156,
   "metadata": {
    "collapsed": false
   },
   "outputs": [],
   "source": [
    "# load data as rdd\n",
    "ratings_rdd = sc.textFile(ratings_dir)\\\n",
    "    .map(lambda r: [float(e) if i == 2 else e for i, e in enumerate(r.split('::'))])\\\n",
    "    .sample(False, 0.1, int(time.time()))\n",
    "movies_rdd = sc.textFile(movies_dir).map(lambda r: r.split('::'))\n",
    "tags_rdd = sc.textFile(tags_dir).map(lambda r: r.split('::'))"
   ]
  },
  {
   "cell_type": "code",
   "execution_count": 3,
   "metadata": {
    "collapsed": false
   },
   "outputs": [],
   "source": [
    "# user_count = ratings_rdd.map(lambda r: r[0]).countByValue()\n",
    "# movie_count = ratings_rdd.map(lambda r: r[1]).countByValue()"
   ]
  },
  {
   "cell_type": "code",
   "execution_count": 5,
   "metadata": {
    "collapsed": false
   },
   "outputs": [
    {
     "name": "stdout",
     "output_type": "stream",
     "text": [
      "3.51254659056\n"
     ]
    }
   ],
   "source": [
    "# rating_mean = ratings_rdd.map(lambda r: float(r[2])).mean()\n",
    "# print rating_mean"
   ]
  },
  {
   "cell_type": "code",
   "execution_count": 223,
   "metadata": {
    "collapsed": false
   },
   "outputs": [],
   "source": [
    "# for testing\n",
    "# test_rdd = sc.parallelize(ratings_rdd.take(1000))"
   ]
  },
  {
   "cell_type": "code",
   "execution_count": 226,
   "metadata": {
    "collapsed": false
   },
   "outputs": [],
   "source": [
    "# get mean for a grouped key result\n",
    "def get_mean(r):\n",
    "    return np.array(list(r))[:, 2].astype(float).mean()\n",
    "\n",
    "# remove bias for one sample\n",
    "def remove_sample_bias(r, user_means, movie_means, global_mean):\n",
    "    baseline = r[2] + (user_means[r[0]] - global_mean) + (movie_means[r[1]] - global_mean)\n",
    "    r[2] = round(min(max(baseline, 0), 5), 2) # bound and round rating\n",
    "    return r\n",
    "\n",
    "def remove_bias(data):\n",
    "    print 'Getting means'\n",
    "    # global mean\n",
    "    global_mean = data.map(lambda r: r[2]).mean()\n",
    "    print global_mean\n",
    "    \n",
    "    # user means\n",
    "    user_means = data.groupBy(lambda r: r[0]).mapValues(lambda r: get_mean(r)).collect()\n",
    "    user_means = dict(user_means)\n",
    "    # print user_means\n",
    "\n",
    "    # user means\n",
    "    movie_means = data.groupBy(lambda r: r[1]).mapValues(lambda r: get_mean(r)).collect()\n",
    "    movie_means = dict(movie_means)\n",
    "    # print movie_means\n",
    "    \n",
    "    print 'Removing bias'\n",
    "    return data.map(lambda r: remove_sample_bias(r, user_means, movie_means, global_mean))"
   ]
  },
  {
   "cell_type": "code",
   "execution_count": 230,
   "metadata": {
    "collapsed": false
   },
   "outputs": [],
   "source": [
    "ratings_rdd_unbiased = remove_bias(ratings_rdd)"
   ]
  },
  {
   "cell_type": "code",
   "execution_count": 233,
   "metadata": {
    "collapsed": true
   },
   "outputs": [],
   "source": [
    "def train_als(data):\n",
    "    # map ratings into Ratings object comprised of [user, movie, rating]\n",
    "    data = data.map(lambda l: Rating(int(l[0]), int(l[1]), float(l[2])))\n",
    "\n",
    "    rank = 10\n",
    "    numIterations = 10\n",
    "    model = ALS.train(data, rank, numIterations)\n",
    "    return model, data"
   ]
  },
  {
   "cell_type": "code",
   "execution_count": 234,
   "metadata": {
    "collapsed": false
   },
   "outputs": [],
   "source": [
    "def evaluate(data, model):\n",
    "    # Evaluate the model on training data\n",
    "    testdata = data.map(lambda p: (p[0], p[1]))\n",
    "\n",
    "    predictions = model.predictAll(testdata).map(lambda r: ((r[0], r[1]), r[2]))\n",
    "    ratesAndPreds = data.map(lambda r: ((r[0], r[1]), r[2])).join(predictions)\n",
    "    MSE = ratesAndPreds.map(lambda r: (r[1][0] - r[1][1])**2).mean()\n",
    "    print(\"Mean Squared Error = \" + str(MSE))"
   ]
  },
  {
   "cell_type": "code",
   "execution_count": 11,
   "metadata": {
    "collapsed": false
   },
   "outputs": [],
   "source": [
    "print 'Training als'\n",
    "model, data = train_als(ratings_rdd_unbiased)\n",
    "print 'Evaluating'\n",
    "evaluate(data, model)"
   ]
  },
  {
   "cell_type": "code",
   "execution_count": null,
   "metadata": {
    "collapsed": true
   },
   "outputs": [],
   "source": [
    "print 'Training als'\n",
    "model, data = train_als(ratings_rdd_unbiased)\n",
    "print 'Evaluating'\n",
    "evaluate(data, model)"
   ]
  }
 ],
 "metadata": {
  "kernelspec": {
   "display_name": "pySpark (Spark 1.6.1)",
   "language": "python",
   "name": "pyspark"
  },
  "language_info": {
   "codemirror_mode": {
    "name": "ipython",
    "version": 2
   },
   "file_extension": ".py",
   "mimetype": "text/x-python",
   "name": "python",
   "nbconvert_exporter": "python",
   "pygments_lexer": "ipython2",
   "version": "2.7.10"
  }
 },
 "nbformat": 4,
 "nbformat_minor": 0
}
