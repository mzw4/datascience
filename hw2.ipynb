{
 "cells": [
  {
   "cell_type": "code",
   "execution_count": 2,
   "metadata": {
    "collapsed": false
   },
   "outputs": [],
   "source": [
    "import sys, operator, time, os\n",
    "from collections import defaultdict\n",
    "import numpy as np\n",
    "\n",
    "from pyspark import SparkContext\n",
    "from pyspark.mllib.recommendation import ALS, MatrixFactorizationModel, Rating\n",
    "\n",
    "# sc = SparkContext(appName=\"PythonPi\")\n",
    "\n",
    "# %matplotlib inline\n",
    "# print os.environ[\"PYSPARK_SUBMIT_ARGS\"]\n",
    "# print sc._conf.get('spark.driver.memory')\n",
    "# print sc._conf.get('spark.executor.memory')\n",
    "# print sc._conf.getAll()\n",
    "\n",
    "base_dir = 'ml-10M100K/'\n",
    "ratings_dir = base_dir + 'ratings.dat'\n",
    "movies_dir = base_dir + 'movies.dat'\n",
    "tags_dir = base_dir + 'tags.dat'\n",
    "\n",
    "debug = True"
   ]
  },
  {
   "cell_type": "code",
   "execution_count": 3,
   "metadata": {
    "collapsed": false
   },
   "outputs": [],
   "source": [
    "# load data as rdd\n",
    "ratings_rdd = sc.textFile(ratings_dir)\\\n",
    "    .map(lambda r: [float(e) if i == 2 else e for i, e in enumerate(r.split('::'))])\n",
    "movies_rdd = sc.textFile(movies_dir).map(lambda r: r.split('::'))\n",
    "tags_rdd = sc.textFile(tags_dir).map(lambda r: r.split('::'))"
   ]
  },
  {
   "cell_type": "code",
   "execution_count": 4,
   "metadata": {
    "collapsed": false
   },
   "outputs": [],
   "source": [
    "# for testing\n",
    "if debug:\n",
    "    ratings_rdd = ratings_rdd.sample(False, 0.001, int(time.time()))"
   ]
  },
  {
   "cell_type": "code",
   "execution_count": 5,
   "metadata": {
    "collapsed": false
   },
   "outputs": [
    {
     "name": "stdout",
     "output_type": "stream",
     "text": [
      "Sorting by timestamp\n"
     ]
    }
   ],
   "source": [
    "print 'Sorting by timestamp'\n",
    "ratings_rdd = ratings_rdd.sortBy(lambda x: x[3])"
   ]
  },
  {
   "cell_type": "code",
   "execution_count": 33,
   "metadata": {
    "collapsed": false
   },
   "outputs": [
    {
     "name": "stdout",
     "output_type": "stream",
     "text": [
      "Split dataset\n"
     ]
    }
   ],
   "source": [
    "print 'Split dataset'\n",
    "# find timestamp at 60% and 80% to split rdd\n",
    "size=ratings_rdd.count()\n",
    "divider_60 = ratings_rdd.map(lambda x: x[3]).take(int(0.6*size))[-1]\n",
    "divider_80 = ratings_rdd.map(lambda x: x[3]).take(int(0.8*size))[-1]\n",
    "train_rdd=ratings_rdd.filter(lambda x: x[3]<divider_60)\n",
    "validation_rdd=ratings_rdd.filter(lambda x: x[3]>=divider_60 and x[3]<divider_80)\n",
    "test_rdd=ratings_rdd.filter(lambda x: x[3]>=divider_80)"
   ]
  },
  {
   "cell_type": "code",
   "execution_count": 34,
   "metadata": {
    "collapsed": false
   },
   "outputs": [
    {
     "data": {
      "text/plain": [
       "(5902, 1968, 1969)"
      ]
     },
     "execution_count": 34,
     "metadata": {},
     "output_type": "execute_result"
    }
   ],
   "source": [
    "train_rdd.count(), validation_rdd.count(), test_rdd.count()"
   ]
  },
  {
   "cell_type": "code",
   "execution_count": 35,
   "metadata": {
    "collapsed": false
   },
   "outputs": [
    {
     "name": "stdout",
     "output_type": "stream",
     "text": [
      "Users: 71564\n"
     ]
    }
   ],
   "source": [
    "def get_user_count(data):\n",
    "    return data.map(lambda r: int(r[0])).distinct().max()\n",
    "\n",
    "user_count = get_user_count(ratings_rdd)\n",
    "print 'Users: %d' % user_count"
   ]
  },
  {
   "cell_type": "code",
   "execution_count": 36,
   "metadata": {
    "collapsed": false
   },
   "outputs": [],
   "source": [
    "from sklearn.feature_extraction import DictVectorizer\n",
    "from scipy.sparse import csr_matrix\n",
    "from scipy.spatial import distance\n",
    "\n",
    "vectorizer = DictVectorizer(sparse=True)\n",
    "\n",
    "def vectorize(vals, user_count):\n",
    "    vec = np.zeros((user_count+1, 1))\n",
    "    for (u, r) in vals:\n",
    "        vec[int(u)] = float(r)\n",
    "    return vec\n",
    "\n",
    "def get_k_similar2(movie, vector, movie_sparse_vectors, k):\n",
    "#     print movie, movie_sparse_vectors\n",
    "    dists = []\n",
    "    for m, vec in movie_sparse_vectors.iteritems():\n",
    "        if movie == m: continue\n",
    "        dists += [(m, distance.euclidean(vectorize(vec, user_count), vectorize(vector, user_count)))]\n",
    "\n",
    "    similar_movies = sorted(dists, key=lambda x: x[1])[:k]\n",
    "    return similar_movies\n",
    "\n",
    "def get_user_movies(data):\n",
    "    user_movies = data.groupBy(lambda r: r[0]).mapValues(lambda r: np.array(list(r))[:, (1,2)])\n",
    "    return dict(user_movies.collect())\n",
    "\n",
    "def get_movie_features(data):\n",
    "    movie_sparse_vectors = data.groupBy(lambda r: r[1]).mapValues(lambda r: np.array(list(r))[:, (0,2)])\n",
    "    return dict(movie_sparse_vectors.collect())\n",
    "    \n",
    "def get_similar_rated_by_user(user, movie, user_movies, movie_sparse_vectors):\n",
    "    user_rated_movies = user_movies[user][:, 0]\n",
    "    user_ratings = dict(user_movies[user])\n",
    "    \n",
    "    movie_vecs = dict([(m, movie_sparse_vectors[m]) for m in user_rated_movies])\n",
    "    \n",
    "    cur_vec = movie_sparse_vectors[movie]\n",
    "    similar = get_k_similar2(movie, cur_vec, movie_vecs, 10)\n",
    "    return [(m, float(user_ratings[m]), sim) for m, sim in similar]\n"
   ]
  },
  {
   "cell_type": "code",
   "execution_count": 37,
   "metadata": {
    "collapsed": false
   },
   "outputs": [],
   "source": [
    "# get mean for a grouped key result\n",
    "def get_mean(r):\n",
    "    return np.array(list(r))[:, 2].astype(float).mean()\n",
    "\n",
    "# remove bias for one sample\n",
    "def remove_sample_bias(r, user_means, movie_means, global_mean, user_movies, movie_sparse_vectors):\n",
    "    user_mean = user_means[r[0]]\n",
    "    baseline_offset = global_mean + (user_mean - global_mean) + (movie_means[r[1]] - global_mean)\n",
    "#     r[2] =  round(min(max(r[2] + (user_mean - global_mean) + (movie_means[r[1]] - global_mean), 0), 5), 2)\n",
    "    \n",
    "    nn_offset = 0\n",
    "#     sim_sum = 0\n",
    "# #     print get_similar_rated_by_user(r[0], r[1], user_movies, movie_sparse_vectors)\n",
    "#     for movie, rating, sim in get_similar_rated_by_user(r[0], r[1], user_movies, movie_sparse_vectors):\n",
    "#         sim_sum += sim\n",
    "#         baseline_sim = global_mean + (user_mean - global_mean) + (movie_means[movie] - global_mean)\n",
    "#         nn_offset -= sim * (rating - baseline_sim)\n",
    "        \n",
    "# #         print sim, rating, baseline_sim, (rating - baseline_sim)\n",
    "# #     print sim_sum\n",
    "#     nn_offset /= sim_sum if sim_sum != 0 else 1\n",
    "        \n",
    "#     r[2] = round(min(max(r[2] + baseline_offset + nn_offset, 0), 5), 2) # bound and round rating\n",
    "    r[2] -= baseline_offset\n",
    "    return r\n",
    "\n",
    "def add_sample_bias(r, user_means, movie_means, global_mean):\n",
    "    user_mean = user_means[str(r[0][0])]\n",
    "    baseline_offset = global_mean + (user_mean - global_mean) + (movie_means[str(r[0][1])] - global_mean)\n",
    "    r = (r[0], r[1] + baseline_offset)\n",
    "    return r\n",
    "\n",
    "def remove_bias(data, global_mean, user_means, movie_means):\n",
    "    print 'Getting user movies and movie features'\n",
    "    user_movies = get_user_movies(data)\n",
    "    movie_sparse_vectors = get_movie_features(data)\n",
    "    \n",
    "    print 'Removing bias'\n",
    "    return data.map(lambda r: remove_sample_bias(r, user_means, movie_means, global_mean, user_movies, movie_sparse_vectors))\n",
    "\n",
    "def add_bias(data, global_mean, user_means, movie_means):\n",
    "    print 'Adding bias'\n",
    "    return data.map(lambda r: add_sample_bias(r, user_means, movie_means, global_mean))\n"
   ]
  },
  {
   "cell_type": "code",
   "execution_count": 38,
   "metadata": {
    "collapsed": false
   },
   "outputs": [
    {
     "name": "stdout",
     "output_type": "stream",
     "text": [
      "Getting means\n",
      "3.49296848526\n",
      "Getting user movies and movie features\n",
      "Removing bias\n"
     ]
    },
    {
     "data": {
      "text/plain": [
       "[[u'68276', u'3157', 0.49296848525923531, u'1000138885']]"
      ]
     },
     "execution_count": 38,
     "metadata": {},
     "output_type": "execute_result"
    }
   ],
   "source": [
    "print 'Getting means'\n",
    "# global mean\n",
    "global_mean = train_rdd.map(lambda r: r[2]).mean()\n",
    "print global_mean\n",
    "\n",
    "# user means\n",
    "user_means = train_rdd.groupBy(lambda r: r[0]).mapValues(lambda r: get_mean(r)).collect()\n",
    "user_means = dict(user_means)\n",
    "# print user_means\n",
    "\n",
    "# user means\n",
    "movie_means = train_rdd.groupBy(lambda r: r[1]).mapValues(lambda r: get_mean(r)).collect()\n",
    "movie_means = dict(movie_means)\n",
    "# print movie_means\n",
    "\n",
    "train_rdd_unbiased = remove_bias(train_rdd, global_mean, user_means, movie_means)\n",
    "train_rdd_unbiased.collect()[:1]"
   ]
  },
  {
   "cell_type": "code",
   "execution_count": 39,
   "metadata": {
    "collapsed": true
   },
   "outputs": [],
   "source": [
    "def train_als(data, rank, lambda_):\n",
    "    # map ratings into Ratings object comprised of [user, movie, rating]\n",
    "    data = data.map(lambda l: Rating(int(l[0]), int(l[1]), float(l[2])))\n",
    "    model = ALS.train(data, rank=rank, seed=None, iterations=10, lambda_= lambda_)\n",
    "    return model"
   ]
  },
  {
   "cell_type": "code",
   "execution_count": 40,
   "metadata": {
    "collapsed": false
   },
   "outputs": [],
   "source": [
    "def evaluate(model, data, test=False, bias=True):\n",
    "    #prepare data for predictions\n",
    "    data=data.map(lambda l: Rating(int(l[0]), int(l[1]), float(l[2])))\n",
    "    data_for_predict_RDD = data.map(lambda x: (x[0], x[1]))\n",
    "\n",
    "    #find predictions\n",
    "    predictions_data = model.predictAll(data_for_predict_RDD).map(lambda r: ((r[0], r[1]), r[2]))\n",
    "    if bias:\n",
    "        predictions_data = add_bias(predictions_data, global_mean, user_means, movie_means)\n",
    "\n",
    "    #compute RMSE\n",
    "    ratesAndPreds = data.map(lambda r: ((r[0], r[1]), r[2])).join(predictions_data)\n",
    "    MSE = ratesAndPreds.map(lambda r: (r[1][0] - r[1][1])**2).mean()\n",
    "    print(\"Mean Squared Error for \" + str('test' if test else 'validation') + \" = \" + str(MSE))"
   ]
  },
  {
   "cell_type": "code",
   "execution_count": 45,
   "metadata": {
    "collapsed": false
   },
   "outputs": [
    {
     "name": "stdout",
     "output_type": "stream",
     "text": [
      "20 0.1\n",
      "Training als\n",
      "Evaluating\n",
      "Adding bias\n",
      "Mean Squared Error for validation = 1.53931224385\n"
     ]
    }
   ],
   "source": [
    "# for rank in [10, 20, 30, 40, 50]:\n",
    "#     for lambda_ in [0.01, 0.1, 1.0, 10.0]:\n",
    "rank = 20\n",
    "lambda_ = 0.1\n",
    "print rank, lambda_\n",
    "print 'Training als'\n",
    "model = train_als(train_rdd_unbiased, rank, lambda_)\n",
    "print 'Evaluating'\n",
    "evaluate(model, validation_rdd)"
   ]
  },
  {
   "cell_type": "code",
   "execution_count": 16,
   "metadata": {
    "collapsed": false
   },
   "outputs": [
    {
     "name": "stdout",
     "output_type": "stream",
     "text": [
      "Training als\n",
      "Evaluating\n",
      "[((15120, 2500), 2.175604572861225)]\n",
      "[((53321, 2541), (4.0, 1.4859677923589958))]\n",
      "Mean Squared Error for validation = 2.67777828963\n"
     ]
    }
   ],
   "source": [
    "print 'Training als'\n",
    "model = train_als(train_rdd)\n",
    "print 'Evaluating'\n",
    "evaluate(model, validation_rdd, bias=False)"
   ]
  },
  {
   "cell_type": "code",
   "execution_count": null,
   "metadata": {
    "collapsed": true
   },
   "outputs": [],
   "source": []
  }
 ],
 "metadata": {
  "kernelspec": {
   "display_name": "pySpark (Spark 1.6.1)",
   "language": "python",
   "name": "pyspark"
  },
  "language_info": {
   "codemirror_mode": {
    "name": "ipython",
    "version": 2
   },
   "file_extension": ".py",
   "mimetype": "text/x-python",
   "name": "python",
   "nbconvert_exporter": "python",
   "pygments_lexer": "ipython2",
   "version": "2.7.10"
  }
 },
 "nbformat": 4,
 "nbformat_minor": 0
}
